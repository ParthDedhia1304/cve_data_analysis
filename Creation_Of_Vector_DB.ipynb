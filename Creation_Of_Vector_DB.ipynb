{
 "cells": [
  {
   "cell_type": "code",
   "execution_count": 6,
   "id": "8b224ef2",
   "metadata": {},
   "outputs": [],
   "source": [
    "\n",
    "import numpy as np\n",
    "import torch"
   ]
  },
  {
   "cell_type": "code",
   "execution_count": 8,
   "id": "1f8fa204",
   "metadata": {},
   "outputs": [
    {
     "name": "stdout",
     "output_type": "stream",
     "text": [
      "Collecting flask_cors\n",
      "  Using cached flask_cors-6.0.1-py3-none-any.whl (13 kB)\n",
      "Requirement already satisfied: Werkzeug>=0.7 in c:\\users\\shrus\\appdata\\local\\programs\\python\\python310\\lib\\site-packages (from flask_cors) (2.2.3)\n",
      "Requirement already satisfied: flask>=0.9 in c:\\users\\shrus\\appdata\\local\\programs\\python\\python310\\lib\\site-packages (from flask_cors) (2.2.3)\n",
      "Requirement already satisfied: Jinja2>=3.0 in c:\\users\\shrus\\appdata\\local\\programs\\python\\python310\\lib\\site-packages (from flask>=0.9->flask_cors) (3.1.2)\n",
      "Requirement already satisfied: itsdangerous>=2.0 in c:\\users\\shrus\\appdata\\local\\programs\\python\\python310\\lib\\site-packages (from flask>=0.9->flask_cors) (2.1.2)\n",
      "Requirement already satisfied: click>=8.0 in c:\\users\\shrus\\appdata\\local\\programs\\python\\python310\\lib\\site-packages (from flask>=0.9->flask_cors) (8.1.3)\n",
      "Requirement already satisfied: MarkupSafe>=2.1.1 in c:\\users\\shrus\\appdata\\local\\programs\\python\\python310\\lib\\site-packages (from Werkzeug>=0.7->flask_cors) (2.1.2)\n",
      "Requirement already satisfied: colorama in c:\\users\\shrus\\appdata\\local\\programs\\python\\python310\\lib\\site-packages (from click>=8.0->flask>=0.9->flask_cors) (0.4.6)\n",
      "Installing collected packages: flask_cors\n",
      "Successfully installed flask_cors-6.0.1\n"
     ]
    },
    {
     "name": "stderr",
     "output_type": "stream",
     "text": [
      "\n",
      "[notice] A new release of pip available: 22.2.2 -> 25.2\n",
      "[notice] To update, run: python.exe -m pip install --upgrade pip\n"
     ]
    },
    {
     "name": "stdout",
     "output_type": "stream",
     "text": [
      "Collecting pymongo\n",
      "  Downloading pymongo-4.13.2-cp310-cp310-win_amd64.whl (800 kB)\n",
      "     -------------------------------------- 800.2/800.2 kB 4.2 MB/s eta 0:00:00\n",
      "Collecting dnspython<3.0.0,>=1.16.0\n",
      "  Using cached dnspython-2.7.0-py3-none-any.whl (313 kB)\n",
      "Installing collected packages: dnspython, pymongo\n",
      "Successfully installed dnspython-2.7.0 pymongo-4.13.2\n"
     ]
    },
    {
     "name": "stderr",
     "output_type": "stream",
     "text": [
      "\n",
      "[notice] A new release of pip available: 22.2.2 -> 25.2\n",
      "[notice] To update, run: python.exe -m pip install --upgrade pip\n"
     ]
    },
    {
     "name": "stdout",
     "output_type": "stream",
     "text": [
      "Collecting dotenv\n",
      "  Downloading dotenv-0.9.9-py2.py3-none-any.whl (1.9 kB)\n",
      "Collecting python-dotenv\n",
      "  Downloading python_dotenv-1.1.1-py3-none-any.whl (20 kB)\n",
      "Installing collected packages: python-dotenv, dotenv\n",
      "Successfully installed dotenv-0.9.9 python-dotenv-1.1.1\n"
     ]
    },
    {
     "name": "stderr",
     "output_type": "stream",
     "text": [
      "\n",
      "[notice] A new release of pip available: 22.2.2 -> 25.2\n",
      "[notice] To update, run: python.exe -m pip install --upgrade pip\n"
     ]
    },
    {
     "name": "stdout",
     "output_type": "stream",
     "text": [
      "Collecting pandas\n",
      "  Downloading pandas-2.3.1-cp310-cp310-win_amd64.whl (11.3 MB)\n",
      "     ---------------------------------------- 11.3/11.3 MB 7.4 MB/s eta 0:00:00\n",
      "Collecting pytz>=2020.1\n",
      "  Downloading pytz-2025.2-py2.py3-none-any.whl (509 kB)\n",
      "     -------------------------------------- 509.2/509.2 kB 8.0 MB/s eta 0:00:00\n",
      "Requirement already satisfied: tzdata>=2022.7 in c:\\users\\shrus\\appdata\\local\\programs\\python\\python310\\lib\\site-packages (from pandas) (2022.7)\n",
      "Requirement already satisfied: numpy>=1.22.4 in c:\\users\\shrus\\appdata\\local\\programs\\python\\python310\\lib\\site-packages (from pandas) (2.2.6)\n",
      "Requirement already satisfied: python-dateutil>=2.8.2 in c:\\users\\shrus\\appdata\\roaming\\python\\python310\\site-packages (from pandas) (2.9.0.post0)\n",
      "Requirement already satisfied: six>=1.5 in c:\\users\\shrus\\appdata\\local\\programs\\python\\python310\\lib\\site-packages (from python-dateutil>=2.8.2->pandas) (1.16.0)\n",
      "Installing collected packages: pytz, pandas\n",
      "Successfully installed pandas-2.3.1 pytz-2025.2\n"
     ]
    },
    {
     "name": "stderr",
     "output_type": "stream",
     "text": [
      "\n",
      "[notice] A new release of pip available: 22.2.2 -> 25.2\n",
      "[notice] To update, run: python.exe -m pip install --upgrade pip\n"
     ]
    },
    {
     "name": "stdout",
     "output_type": "stream",
     "text": [
      "Collecting plotly\n",
      "  Downloading plotly-6.2.0-py3-none-any.whl (9.6 MB)\n",
      "     ---------------------------------------- 9.6/9.6 MB 8.0 MB/s eta 0:00:00\n",
      "Collecting narwhals>=1.15.1\n",
      "  Downloading narwhals-2.0.1-py3-none-any.whl (385 kB)\n",
      "     -------------------------------------- 385.4/385.4 kB 4.8 MB/s eta 0:00:00\n",
      "Requirement already satisfied: packaging in c:\\users\\shrus\\appdata\\local\\programs\\python\\python310\\lib\\site-packages (from plotly) (25.0)\n",
      "Installing collected packages: narwhals, plotly\n",
      "Successfully installed narwhals-2.0.1 plotly-6.2.0\n"
     ]
    },
    {
     "name": "stderr",
     "output_type": "stream",
     "text": [
      "\n",
      "[notice] A new release of pip available: 22.2.2 -> 25.2\n",
      "[notice] To update, run: python.exe -m pip install --upgrade pip\n",
      "ERROR: Could not find a version that satisfies the requirement json (from versions: none)\n",
      "ERROR: No matching distribution found for json\n",
      "\n",
      "[notice] A new release of pip available: 22.2.2 -> 25.2\n",
      "[notice] To update, run: python.exe -m pip install --upgrade pip\n"
     ]
    },
    {
     "name": "stdout",
     "output_type": "stream",
     "text": [
      "Collecting langchain_groq\n",
      "  Using cached langchain_groq-0.3.6-py3-none-any.whl (16 kB)\n",
      "Collecting langchain-core<1.0.0,>=0.3.68\n",
      "  Using cached langchain_core-0.3.72-py3-none-any.whl (442 kB)\n",
      "Collecting groq<1,>=0.29.0\n",
      "  Using cached groq-0.30.0-py3-none-any.whl (131 kB)\n",
      "Requirement already satisfied: typing-extensions<5,>=4.10 in c:\\users\\shrus\\appdata\\roaming\\python\\python310\\site-packages (from groq<1,>=0.29.0->langchain_groq) (4.14.1)\n",
      "Collecting pydantic<3,>=1.9.0\n",
      "  Downloading pydantic-2.11.7-py3-none-any.whl (444 kB)\n",
      "     -------------------------------------- 444.8/444.8 kB 5.6 MB/s eta 0:00:00\n",
      "Collecting anyio<5,>=3.5.0\n",
      "  Using cached anyio-4.9.0-py3-none-any.whl (100 kB)\n",
      "Collecting httpx<1,>=0.23.0\n",
      "  Using cached httpx-0.28.1-py3-none-any.whl (73 kB)\n",
      "Collecting distro<2,>=1.7.0\n",
      "  Using cached distro-1.9.0-py3-none-any.whl (20 kB)\n",
      "Collecting sniffio\n",
      "  Downloading sniffio-1.3.1-py3-none-any.whl (10 kB)\n",
      "Collecting langsmith>=0.3.45\n",
      "  Using cached langsmith-0.4.10-py3-none-any.whl (372 kB)\n",
      "Requirement already satisfied: packaging>=23.2 in c:\\users\\shrus\\appdata\\local\\programs\\python\\python310\\lib\\site-packages (from langchain-core<1.0.0,>=0.3.68->langchain_groq) (25.0)\n",
      "Requirement already satisfied: PyYAML>=5.3 in c:\\users\\shrus\\appdata\\local\\programs\\python\\python310\\lib\\site-packages (from langchain-core<1.0.0,>=0.3.68->langchain_groq) (6.0.2)\n",
      "Collecting jsonpatch<2.0,>=1.33\n",
      "  Using cached jsonpatch-1.33-py2.py3-none-any.whl (12 kB)\n",
      "Collecting tenacity!=8.4.0,<10.0.0,>=8.1.0\n",
      "  Using cached tenacity-9.1.2-py3-none-any.whl (28 kB)\n",
      "Requirement already satisfied: exceptiongroup>=1.0.2 in c:\\users\\shrus\\appdata\\roaming\\python\\python310\\site-packages (from anyio<5,>=3.5.0->groq<1,>=0.29.0->langchain_groq) (1.3.0)\n",
      "Requirement already satisfied: idna>=2.8 in c:\\users\\shrus\\appdata\\local\\programs\\python\\python310\\lib\\site-packages (from anyio<5,>=3.5.0->groq<1,>=0.29.0->langchain_groq) (3.10)\n",
      "Requirement already satisfied: certifi in c:\\users\\shrus\\appdata\\local\\programs\\python\\python310\\lib\\site-packages (from httpx<1,>=0.23.0->groq<1,>=0.29.0->langchain_groq) (2025.7.14)\n",
      "Collecting httpcore==1.*\n",
      "  Using cached httpcore-1.0.9-py3-none-any.whl (78 kB)\n",
      "Collecting h11>=0.16\n",
      "  Using cached h11-0.16.0-py3-none-any.whl (37 kB)\n",
      "Collecting jsonpointer>=1.9\n",
      "  Using cached jsonpointer-3.0.0-py2.py3-none-any.whl (7.6 kB)\n",
      "Requirement already satisfied: requests>=2.0.0 in c:\\users\\shrus\\appdata\\local\\programs\\python\\python310\\lib\\site-packages (from langsmith>=0.3.45->langchain-core<1.0.0,>=0.3.68->langchain_groq) (2.32.4)\n",
      "Collecting zstandard>=0.23.0\n",
      "  Downloading zstandard-0.23.0-cp310-cp310-win_amd64.whl (495 kB)\n",
      "     -------------------------------------- 495.5/495.5 kB 5.2 MB/s eta 0:00:00\n",
      "Collecting orjson>=3.9.14\n",
      "  Downloading orjson-3.11.1-cp310-cp310-win_amd64.whl (131 kB)\n",
      "     -------------------------------------- 131.6/131.6 kB 3.9 MB/s eta 0:00:00\n",
      "Collecting requests-toolbelt>=1.0.0\n",
      "  Using cached requests_toolbelt-1.0.0-py2.py3-none-any.whl (54 kB)\n",
      "Collecting pydantic-core==2.33.2\n",
      "  Downloading pydantic_core-2.33.2-cp310-cp310-win_amd64.whl (2.0 MB)\n",
      "     ---------------------------------------- 2.0/2.0 MB 6.5 MB/s eta 0:00:00\n",
      "Collecting annotated-types>=0.6.0\n",
      "  Using cached annotated_types-0.7.0-py3-none-any.whl (13 kB)\n",
      "Collecting typing-inspection>=0.4.0\n",
      "  Downloading typing_inspection-0.4.1-py3-none-any.whl (14 kB)\n",
      "Requirement already satisfied: charset_normalizer<4,>=2 in c:\\users\\shrus\\appdata\\local\\programs\\python\\python310\\lib\\site-packages (from requests>=2.0.0->langsmith>=0.3.45->langchain-core<1.0.0,>=0.3.68->langchain_groq) (3.4.2)\n",
      "Requirement already satisfied: urllib3<3,>=1.21.1 in c:\\users\\shrus\\appdata\\local\\programs\\python\\python310\\lib\\site-packages (from requests>=2.0.0->langsmith>=0.3.45->langchain-core<1.0.0,>=0.3.68->langchain_groq) (2.5.0)\n",
      "Installing collected packages: zstandard, typing-inspection, tenacity, sniffio, pydantic-core, orjson, jsonpointer, h11, distro, annotated-types, requests-toolbelt, pydantic, jsonpatch, httpcore, anyio, httpx, langsmith, groq, langchain-core, langchain_groq\n",
      "Successfully installed annotated-types-0.7.0 anyio-4.9.0 distro-1.9.0 groq-0.30.0 h11-0.16.0 httpcore-1.0.9 httpx-0.28.1 jsonpatch-1.33 jsonpointer-3.0.0 langchain-core-0.3.72 langchain_groq-0.3.6 langsmith-0.4.10 orjson-3.11.1 pydantic-2.11.7 pydantic-core-2.33.2 requests-toolbelt-1.0.0 sniffio-1.3.1 tenacity-9.1.2 typing-inspection-0.4.1 zstandard-0.23.0\n"
     ]
    },
    {
     "name": "stderr",
     "output_type": "stream",
     "text": [
      "\n",
      "[notice] A new release of pip available: 22.2.2 -> 25.2\n",
      "[notice] To update, run: python.exe -m pip install --upgrade pip\n"
     ]
    },
    {
     "name": "stdout",
     "output_type": "stream",
     "text": [
      "Collecting jellyfish\n",
      "  Downloading jellyfish-1.2.0-cp310-cp310-win_amd64.whl (217 kB)\n",
      "     -------------------------------------- 217.1/217.1 kB 4.5 MB/s eta 0:00:00\n",
      "Installing collected packages: jellyfish\n",
      "Successfully installed jellyfish-1.2.0\n"
     ]
    },
    {
     "name": "stderr",
     "output_type": "stream",
     "text": [
      "\n",
      "[notice] A new release of pip available: 22.2.2 -> 25.2\n",
      "[notice] To update, run: python.exe -m pip install --upgrade pip\n"
     ]
    },
    {
     "name": "stdout",
     "output_type": "stream",
     "text": [
      "Collecting markdown2"
     ]
    },
    {
     "name": "stderr",
     "output_type": "stream",
     "text": [
      "\n",
      "[notice] A new release of pip available: 22.2.2 -> 25.2\n",
      "[notice] To update, run: python.exe -m pip install --upgrade pip\n"
     ]
    },
    {
     "name": "stdout",
     "output_type": "stream",
     "text": [
      "\n",
      "  Using cached markdown2-2.5.4-py3-none-any.whl (49 kB)\n",
      "Installing collected packages: markdown2\n",
      "Successfully installed markdown2-2.5.4\n"
     ]
    }
   ],
   "source": [
    "\n",
    "\n",
    "!pip install flask_cors\n",
    "!pip install pymongo\n",
    "!pip install dotenv\n",
    "!pip install pandas\n",
    "!pip install plotly\n",
    "!pip install json\n",
    "!pip install langchain_groq\n",
    "\n",
    "!pip install jellyfish\n",
    "!pip install markdown2\n",
    "\n"
   ]
  },
  {
   "cell_type": "code",
   "execution_count": 2,
   "id": "a66afa70",
   "metadata": {},
   "outputs": [],
   "source": [
    "\n",
    "from transformers import BertTokenizer, AutoModel"
   ]
  },
  {
   "cell_type": "code",
   "execution_count": 3,
   "id": "38fd854e",
   "metadata": {},
   "outputs": [],
   "source": [
    "tokenizer = BertTokenizer.from_pretrained('bert-base-uncased')"
   ]
  },
  {
   "cell_type": "code",
   "execution_count": 4,
   "id": "14abc8d7",
   "metadata": {},
   "outputs": [],
   "source": [
    "model_name = \"sentence-transformers/all-MiniLM-L6-v2\"\n",
    "model = AutoModel.from_pretrained(model_name)"
   ]
  },
  {
   "cell_type": "code",
   "execution_count": 5,
   "id": "6116b252",
   "metadata": {},
   "outputs": [],
   "source": [
    "def embed_tokens(input_ids, attention_mask):\n",
    "    with torch.no_grad():\n",
    "        outputs = model(input_ids=input_ids, attention_mask=attention_mask)\n",
    "    # Use the [CLS] token representation for sentence-level embedding\n",
    "    embeddings = outputs.last_hidden_state[:, 0, :]  # Shape: [batch_size, hidden_dim]\n",
    "    return embeddings"
   ]
  },
  {
   "cell_type": "code",
   "execution_count": 6,
   "id": "b3af6e2d",
   "metadata": {},
   "outputs": [
    {
     "name": "stderr",
     "output_type": "stream",
     "text": [
      "C:\\Users\\shrus\\AppData\\Local\\Temp/ipykernel_8880/64800262.py:1: FutureWarning: You are using `torch.load` with `weights_only=False` (the current default value), which uses the default pickle module implicitly. It is possible to construct malicious pickle data which will execute arbitrary code during unpickling (See https://github.com/pytorch/pytorch/blob/main/SECURITY.md#untrusted-models for more details). In a future release, the default value for `weights_only` will be flipped to `True`. This limits the functions that could be executed during unpickling. Arbitrary objects will no longer be allowed to be loaded via this mode unless they are explicitly allowlisted by the user via `torch.serialization.add_safe_globals`. We recommend you start setting `weights_only=True` for any use case where you don't have full control of the loaded file. Please open an issue on GitHub for any issues related to this experimental feature.\n",
      "  all_embeddings = torch.load(\"embeddings.pt\")\n"
     ]
    }
   ],
   "source": [
    "all_embeddings = torch.load(\"embeddings.pt\")"
   ]
  },
  {
   "cell_type": "code",
   "execution_count": 7,
   "id": "3ac6c84f",
   "metadata": {},
   "outputs": [],
   "source": [
    "\n",
    "embeddings = all_embeddings.numpy()"
   ]
  },
  {
   "cell_type": "code",
   "execution_count": 8,
   "id": "9a87e736",
   "metadata": {},
   "outputs": [],
   "source": [
    "import json\n",
    "\n",
    "# Load JSON data\n",
    "with open('data_for_vectordb.json', 'r') as file:\n",
    "    data = json.load(file)\n",
    "    \n",
    "\n",
    "cve_ids = [item['id'] for item in data]\n",
    "cve_ids = np.array(cve_ids)"
   ]
  },
  {
   "cell_type": "code",
   "execution_count": 9,
   "id": "f9a15906",
   "metadata": {},
   "outputs": [],
   "source": [
    "from pinecone import Pinecone\n",
    "\n",
    "pc = Pinecone(api_key=\"2f5652db-c1bc-4529-a189-84e3602bf46c\")\n",
    "index = pc.Index(\"cveindex\")"
   ]
  },
  {
   "cell_type": "code",
   "execution_count": 10,
   "id": "88c58cd6",
   "metadata": {},
   "outputs": [
    {
     "name": "stdout",
     "output_type": "stream",
     "text": [
      "Done in 19.97 minutes.\n"
     ]
    }
   ],
   "source": [
    "import time\n",
    "\n",
    "batch_size = 100  # Try 100 or 200\n",
    "vectors = []\n",
    "\n",
    "start = time.time()\n",
    "\n",
    "for i, cve_id in enumerate(cve_ids):\n",
    "    if cve_id:\n",
    "        vectors.append({\n",
    "            \"id\": str(cve_id),\n",
    "            \"values\": embeddings[i].tolist()\n",
    "        })\n",
    "        \n",
    "        # Once batch is full or last item, upsert\n",
    "        if len(vectors) == batch_size or i == len(cve_ids) - 1:\n",
    "            index.upsert(vectors=vectors, namespace=\"ns1\")\n",
    "            vectors = []  # Reset batch\n",
    "\n",
    "print(f\"Done in {(time.time() - start)/60:.2f} minutes.\")\n"
   ]
  },
  {
   "cell_type": "code",
   "execution_count": 11,
   "id": "fd3ac301",
   "metadata": {},
   "outputs": [],
   "source": [
    "query = \"An authenticated user may be able to misuse parameters to inject arbitrary operating system commands into mySCADA myPRO versions 8.25.0 and prior.\"\n",
    "     "
   ]
  },
  {
   "cell_type": "code",
   "execution_count": 12,
   "id": "c69c6f90",
   "metadata": {},
   "outputs": [],
   "source": [
    "\n",
    "query_encoded_inputs = tokenizer(query, padding=True, truncation=True, return_tensors='pt')"
   ]
  },
  {
   "cell_type": "code",
   "execution_count": 13,
   "id": "302eb37a",
   "metadata": {},
   "outputs": [],
   "source": [
    "query_token_ids = query_encoded_inputs['input_ids']\n",
    "query_attention_masks = query_encoded_inputs['attention_mask']"
   ]
  },
  {
   "cell_type": "code",
   "execution_count": 14,
   "id": "3d90c1c1",
   "metadata": {},
   "outputs": [
    {
     "name": "stderr",
     "output_type": "stream",
     "text": [
      "C:\\Users\\shrus\\anaconda3\\lib\\site-packages\\torch\\nn\\modules\\module.py:1747: FutureWarning: `encoder_attention_mask` is deprecated and will be removed in version 4.55.0 for `BertSdpaSelfAttention.forward`.\n",
      "  return forward_call(*args, **kwargs)\n"
     ]
    }
   ],
   "source": [
    "query_embeddings = embed_tokens(query_token_ids, query_attention_masks)"
   ]
  },
  {
   "cell_type": "code",
   "execution_count": 15,
   "id": "98f5925d",
   "metadata": {},
   "outputs": [],
   "source": [
    "query_vector = query_embeddings.tolist()"
   ]
  },
  {
   "cell_type": "code",
   "execution_count": 16,
   "id": "fe78e6f4",
   "metadata": {},
   "outputs": [],
   "source": [
    "query_vector = query_vector[0]"
   ]
  },
  {
   "cell_type": "code",
   "execution_count": 17,
   "id": "22d0ea84",
   "metadata": {},
   "outputs": [],
   "source": [
    "response = index.query(\n",
    "    namespace=\"ns1\",\n",
    "    vector=query_vector,\n",
    "    top_k=5,\n",
    "    include_values=True,\n",
    ")"
   ]
  },
  {
   "cell_type": "code",
   "execution_count": 18,
   "id": "2ed80935",
   "metadata": {},
   "outputs": [
    {
     "name": "stdout",
     "output_type": "stream",
     "text": [
      "CVE-2022-0999\n",
      "CVE-2023-29169\n",
      "CVE-2023-29150\n",
      "CVE-2023-28384\n",
      "CVE-2023-28716\n"
     ]
    }
   ],
   "source": [
    "\n",
    "for res in response['matches']:\n",
    "    print(res['id'])\n",
    "     "
   ]
  },
  {
   "cell_type": "code",
   "execution_count": null,
   "id": "e69d5a45",
   "metadata": {},
   "outputs": [],
   "source": []
  }
 ],
 "metadata": {
  "kernelspec": {
   "display_name": "Python 3",
   "language": "python",
   "name": "python3"
  },
  "language_info": {
   "codemirror_mode": {
    "name": "ipython",
    "version": 3
   },
   "file_extension": ".py",
   "mimetype": "text/x-python",
   "name": "python",
   "nbconvert_exporter": "python",
   "pygments_lexer": "ipython3",
   "version": "3.10.7"
  }
 },
 "nbformat": 4,
 "nbformat_minor": 5
}
