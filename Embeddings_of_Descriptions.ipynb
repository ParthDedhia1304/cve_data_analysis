{
 "cells": [
  {
   "cell_type": "code",
   "execution_count": 2,
   "id": "55af8b90",
   "metadata": {},
   "outputs": [
    {
     "name": "stdout",
     "output_type": "stream",
     "text": [
      "Collecting torch\n",
      "  Downloading torch-2.7.1-cp39-cp39-win_amd64.whl (216.0 MB)\n",
      "Requirement already satisfied: filelock in c:\\users\\shrus\\anaconda3\\lib\\site-packages (from torch) (3.4.2)\n",
      "Collecting sympy>=1.13.3\n",
      "  Downloading sympy-1.14.0-py3-none-any.whl (6.3 MB)\n",
      "Requirement already satisfied: typing-extensions>=4.10.0 in c:\\users\\shrus\\anaconda3\\lib\\site-packages (from torch) (4.13.2)\n",
      "Requirement already satisfied: jinja2 in c:\\users\\shrus\\anaconda3\\lib\\site-packages (from torch) (2.11.3)\n",
      "Collecting fsspec\n",
      "  Downloading fsspec-2025.7.0-py3-none-any.whl (199 kB)\n",
      "Requirement already satisfied: networkx in c:\\users\\shrus\\anaconda3\\lib\\site-packages (from torch) (2.7.1)\n",
      "Collecting mpmath<1.4,>=1.1.0\n",
      "  Downloading mpmath-1.3.0-py3-none-any.whl (536 kB)\n",
      "Requirement already satisfied: MarkupSafe>=0.23 in c:\\users\\shrus\\anaconda3\\lib\\site-packages (from jinja2->torch) (1.1.1)\n",
      "Installing collected packages: mpmath, sympy, fsspec, torch\n",
      "Successfully installed fsspec-2025.7.0 mpmath-1.3.0 sympy-1.14.0 torch-2.7.1\n"
     ]
    }
   ],
   "source": [
    "!pip install torch"
   ]
  },
  {
   "cell_type": "code",
   "execution_count": 5,
   "id": "d7df8abd",
   "metadata": {},
   "outputs": [
    {
     "name": "stdout",
     "output_type": "stream",
     "text": [
      "Collecting transformers\n",
      "  Downloading transformers-4.54.1-py3-none-any.whl (11.2 MB)\n",
      "Requirement already satisfied: regex!=2019.12.17 in c:\\users\\shrus\\anaconda3\\lib\\site-packages (from transformers) (2021.8.3)\n",
      "Requirement already satisfied: filelock in c:\\users\\shrus\\anaconda3\\lib\\site-packages (from transformers) (3.4.2)\n",
      "Collecting tokenizers<0.22,>=0.21\n",
      "  Downloading tokenizers-0.21.4-cp39-abi3-win_amd64.whl (2.5 MB)\n",
      "Requirement already satisfied: numpy>=1.17 in c:\\users\\shrus\\anaconda3\\lib\\site-packages (from transformers) (1.26.4)\n",
      "Requirement already satisfied: packaging>=20.0 in c:\\users\\shrus\\anaconda3\\lib\\site-packages (from transformers) (21.3)\n",
      "Requirement already satisfied: tqdm>=4.27 in c:\\users\\shrus\\anaconda3\\lib\\site-packages (from transformers) (4.62.3)\n",
      "Requirement already satisfied: pyyaml>=5.1 in c:\\users\\shrus\\anaconda3\\lib\\site-packages (from transformers) (6.0)\n",
      "Collecting safetensors>=0.4.3\n",
      "  Downloading safetensors-0.5.3-cp38-abi3-win_amd64.whl (308 kB)\n",
      "Requirement already satisfied: requests in c:\\users\\shrus\\anaconda3\\lib\\site-packages (from transformers) (2.27.1)\n",
      "Collecting huggingface-hub<1.0,>=0.34.0\n",
      "  Downloading huggingface_hub-0.34.3-py3-none-any.whl (558 kB)\n",
      "Requirement already satisfied: typing-extensions>=3.7.4.3 in c:\\users\\shrus\\anaconda3\\lib\\site-packages (from huggingface-hub<1.0,>=0.34.0->transformers) (4.13.2)\n",
      "Requirement already satisfied: fsspec>=2023.5.0 in c:\\users\\shrus\\anaconda3\\lib\\site-packages (from huggingface-hub<1.0,>=0.34.0->transformers) (2025.7.0)\n",
      "Requirement already satisfied: pyparsing!=3.0.5,>=2.0.2 in c:\\users\\shrus\\anaconda3\\lib\\site-packages (from packaging>=20.0->transformers) (3.0.4)\n",
      "Requirement already satisfied: colorama in c:\\users\\shrus\\anaconda3\\lib\\site-packages (from tqdm>=4.27->transformers) (0.4.4)\n",
      "Requirement already satisfied: urllib3<1.27,>=1.21.1 in c:\\users\\shrus\\anaconda3\\lib\\site-packages (from requests->transformers) (1.26.8)\n",
      "Requirement already satisfied: idna<4,>=2.5 in c:\\users\\shrus\\anaconda3\\lib\\site-packages (from requests->transformers) (3.3)\n",
      "Requirement already satisfied: charset-normalizer~=2.0.0 in c:\\users\\shrus\\anaconda3\\lib\\site-packages (from requests->transformers) (2.0.4)\n",
      "Requirement already satisfied: certifi>=2017.4.17 in c:\\users\\shrus\\anaconda3\\lib\\site-packages (from requests->transformers) (2025.4.26)\n",
      "Installing collected packages: huggingface-hub, tokenizers, safetensors, transformers\n",
      "Successfully installed huggingface-hub-0.34.3 safetensors-0.5.3 tokenizers-0.21.4 transformers-4.54.1\n"
     ]
    }
   ],
   "source": [
    "!pip install transformers"
   ]
  },
  {
   "cell_type": "code",
   "execution_count": 1,
   "id": "ddb3f9a2",
   "metadata": {},
   "outputs": [],
   "source": [
    "import torch"
   ]
  },
  {
   "cell_type": "code",
   "execution_count": 2,
   "id": "1a7ada7a",
   "metadata": {},
   "outputs": [
    {
     "name": "stdout",
     "output_type": "stream",
     "text": [
      "True\n"
     ]
    }
   ],
   "source": [
    "import torch\n",
    "print(torch.cuda.is_available())"
   ]
  },
  {
   "cell_type": "code",
   "execution_count": 3,
   "id": "f2583f06",
   "metadata": {},
   "outputs": [
    {
     "name": "stdout",
     "output_type": "stream",
     "text": [
      "Using device: cuda\n"
     ]
    }
   ],
   "source": [
    "import torch\n",
    "\n",
    "device = torch.device(\"cuda\" if torch.cuda.is_available() else \"cpu\")\n",
    "print(f\"Using device: {device}\")\n"
   ]
  },
  {
   "cell_type": "code",
   "execution_count": 4,
   "id": "e20d1db8",
   "metadata": {},
   "outputs": [],
   "source": [
    "from transformers import BertTokenizer"
   ]
  },
  {
   "cell_type": "code",
   "execution_count": 5,
   "id": "f2b52fad",
   "metadata": {},
   "outputs": [],
   "source": [
    "\n",
    "import json\n",
    "\n",
    "# Load JSON data\n",
    "with open('data_for_vectordb.json', 'r') as file:\n",
    "    data = json.load(file)\n",
    "\n",
    "# Extract descriptions and CVE IDs\n",
    "descriptions = [item['description'] for item in data]\n",
    "cve_ids = [item['id'] for item in data]"
   ]
  },
  {
   "cell_type": "code",
   "execution_count": 6,
   "id": "8343f399",
   "metadata": {},
   "outputs": [],
   "source": [
    "\n",
    "tokenizer = BertTokenizer.from_pretrained('bert-base-uncased')"
   ]
  },
  {
   "cell_type": "code",
   "execution_count": 7,
   "id": "22c8f697",
   "metadata": {},
   "outputs": [
    {
     "name": "stdout",
     "output_type": "stream",
     "text": [
      "Done in 565.49 seconds.\n"
     ]
    }
   ],
   "source": [
    "\n",
    "import time\n",
    "start = time.time()\n",
    "encoded_inputs = tokenizer(descriptions, padding=True, truncation=True, return_tensors='pt')\n",
    "print(f\"Done in {time.time() - start:.2f} seconds.\")\n"
   ]
  },
  {
   "cell_type": "code",
   "execution_count": 8,
   "id": "f4d05b5e",
   "metadata": {},
   "outputs": [],
   "source": [
    "token_ids = encoded_inputs['input_ids']\n",
    "attention_masks = encoded_inputs['attention_mask']"
   ]
  },
  {
   "cell_type": "code",
   "execution_count": 9,
   "id": "2560208b",
   "metadata": {},
   "outputs": [],
   "source": [
    "from transformers import AutoModel\n",
    "import torch\n",
    "\n",
    "model_name = \"sentence-transformers/all-MiniLM-L6-v2\"\n",
    "model = AutoModel.from_pretrained(model_name)"
   ]
  },
  {
   "cell_type": "code",
   "execution_count": 10,
   "id": "f305addc",
   "metadata": {},
   "outputs": [],
   "source": [
    "def embed_tokens(input_ids, attention_mask):\n",
    "    with torch.no_grad():\n",
    "        outputs = model(input_ids=input_ids, attention_mask=attention_mask)\n",
    "    # Use the [CLS] token representation for sentence-level embedding\n",
    "    embeddings = outputs.last_hidden_state[:, 0, :]  # Shape: [batch_size, hidden_dim]\n",
    "    return embeddings"
   ]
  },
  {
   "cell_type": "code",
   "execution_count": 11,
   "id": "1a00ed57",
   "metadata": {},
   "outputs": [
    {
     "name": "stderr",
     "output_type": "stream",
     "text": [
      "C:\\Users\\shrus\\anaconda3\\lib\\site-packages\\torch\\nn\\modules\\module.py:1747: FutureWarning: `encoder_attention_mask` is deprecated and will be removed in version 4.55.0 for `BertSdpaSelfAttention.forward`.\n",
      "  return forward_call(*args, **kwargs)\n"
     ]
    },
    {
     "name": "stdout",
     "output_type": "stream",
     "text": [
      "Done in 26.71 minutes.\n"
     ]
    }
   ],
   "source": [
    "\n",
    "import time\n",
    "start = time.time()\n",
    "# Step 1: Set device\n",
    "device = torch.device(\"cuda\" if torch.cuda.is_available() else \"cpu\")\n",
    "\n",
    "# Step 2: Move model to GPU\n",
    "model = model.to(device)\n",
    "\n",
    "# Step 3: Embedding function (no changes needed here)\n",
    "def embed_tokens(input_ids, attention_mask):\n",
    "    with torch.no_grad():\n",
    "        outputs = model(input_ids=input_ids, attention_mask=attention_mask)\n",
    "    # Use the [CLS] token representation for sentence-level embedding\n",
    "    embeddings = outputs.last_hidden_state[:, 0, :]  # Shape: [batch_size, hidden_dim]\n",
    "    return embeddings\n",
    "\n",
    "# Step 4: Tokenized inputs (already tensors)\n",
    "# Assume token_ids and attention_masks are from tokenizer(..., return_tensors='pt')\n",
    "batch_size = 16\n",
    "all_embeddings = []\n",
    "\n",
    "# Step 5: Run batch-wise embedding on GPU\n",
    "for i in range(0, len(token_ids), batch_size):\n",
    "    batch_input_ids = token_ids[i:i+batch_size].to(device)\n",
    "    batch_attention_mask = attention_masks[i:i+batch_size].to(device)\n",
    "\n",
    "    batch_embeddings = embed_tokens(batch_input_ids, batch_attention_mask)\n",
    "    all_embeddings.append(batch_embeddings.cpu())  # Save to CPU to avoid GPU overflow\n",
    "\n",
    "# Step 6: Concatenate all embeddings\n",
    "all_embeddings = torch.cat(all_embeddings, dim=0)\n",
    "\n",
    "print(f\"Done in {(time.time() - start)/60:.2f} minutes.\")"
   ]
  },
  {
   "cell_type": "code",
   "execution_count": 12,
   "id": "76833875",
   "metadata": {},
   "outputs": [],
   "source": [
    "torch.save(all_embeddings, \"embeddings.pt\")"
   ]
  },
  {
   "cell_type": "code",
   "execution_count": 1,
   "id": "5974f363",
   "metadata": {},
   "outputs": [
    {
     "name": "stdout",
     "output_type": "stream",
     "text": [
      "<class 'torch.Tensor'>\n"
     ]
    }
   ],
   "source": [
    "import torch\n",
    "\n",
    "data = torch.load(\"embeddings.pt\")\n",
    "print(type(data))\n",
    "if isinstance(data, dict):\n",
    "    print(data.keys())\n",
    "elif isinstance(data, list):\n",
    "    print(\"First item:\", data[0])\n"
   ]
  },
  {
   "cell_type": "code",
   "execution_count": 2,
   "id": "ad7d68b2",
   "metadata": {},
   "outputs": [
    {
     "name": "stdout",
     "output_type": "stream",
     "text": [
      "torch.Size([129400, 384])\n"
     ]
    }
   ],
   "source": [
    "import torch\n",
    "\n",
    "data = torch.load(\"embeddings.pt\")\n",
    "print(data.shape)\n"
   ]
  },
  {
   "cell_type": "code",
   "execution_count": null,
   "id": "6c4268f5",
   "metadata": {},
   "outputs": [
    {
     "name": "stdout",
     "output_type": "stream",
     "text": [
      "129400\n",
      "CVE-1999-0199\n"
     ]
    }
   ],
   "source": [
    "import json\n",
    "\n",
    "with open(\"data_for_vectordb.json\", \"r\", encoding=\"utf-8\") as f:\n",
    "    records = json.load(f)\n",
    "\n",
    "print(len(records))       # should match data.shape[0]\n",
    "print(records[0][\"id\"])   # check first CVE ID\n",
    "\n"
   ]
  },
  {
   "cell_type": "code",
   "execution_count": null,
   "id": "0294810e",
   "metadata": {},
   "outputs": [],
   "source": []
  }
 ],
 "metadata": {
  "kernelspec": {
   "display_name": "Python 3",
   "language": "python",
   "name": "python3"
  },
  "language_info": {
   "codemirror_mode": {
    "name": "ipython",
    "version": 3
   },
   "file_extension": ".py",
   "mimetype": "text/x-python",
   "name": "python",
   "nbconvert_exporter": "python",
   "pygments_lexer": "ipython3",
   "version": "3.10.7"
  }
 },
 "nbformat": 4,
 "nbformat_minor": 5
}
