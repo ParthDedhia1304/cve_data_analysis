{
 "cells": [
  {
   "cell_type": "code",
   "execution_count": 2,
   "id": "3f90567b",
   "metadata": {},
   "outputs": [],
   "source": [
    "import json\n",
    "\n",
    "# Load JSON data\n",
    "with open('final_data.json', 'r') as file:\n",
    "    data = json.load(file)\n",
    "\n",
    "# Extract descriptions and CVE IDs\n",
    "descriptions = [item['description'] for item in data]\n",
    "cve_ids = [item['id'] for item in data]"
   ]
  },
  {
   "cell_type": "code",
   "execution_count": 4,
   "id": "6fb748b6",
   "metadata": {},
   "outputs": [],
   "source": [
    "list=[]\n",
    "for desc, cve in zip(descriptions, cve_ids):\n",
    "    list.append({\"description\":desc, \"id\":cve})\n",
    "with open(\"data_for_vectordb.json\", \"w\") as file:\n",
    "    json.dump(list, file, indent=4)"
   ]
  },
  {
   "cell_type": "code",
   "execution_count": null,
   "id": "61f2882f",
   "metadata": {},
   "outputs": [],
   "source": []
  }
 ],
 "metadata": {
  "kernelspec": {
   "display_name": "Python 3 (ipykernel)",
   "language": "python",
   "name": "python3"
  },
  "language_info": {
   "codemirror_mode": {
    "name": "ipython",
    "version": 3
   },
   "file_extension": ".py",
   "mimetype": "text/x-python",
   "name": "python",
   "nbconvert_exporter": "python",
   "pygments_lexer": "ipython3",
   "version": "3.9.7"
  }
 },
 "nbformat": 4,
 "nbformat_minor": 5
}
